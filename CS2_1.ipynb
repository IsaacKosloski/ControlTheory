{
  "nbformat": 4,
  "nbformat_minor": 0,
  "metadata": {
    "colab": {
      "provenance": [],
      "authorship_tag": "ABX9TyO7+yednWNcrXp2kkrQbBFW",
      "include_colab_link": true
    },
    "kernelspec": {
      "name": "python3",
      "display_name": "Python 3"
    },
    "language_info": {
      "name": "python"
    }
  },
  "cells": [
    {
      "cell_type": "markdown",
      "metadata": {
        "id": "view-in-github",
        "colab_type": "text"
      },
      "source": [
        "<a href=\"https://colab.research.google.com/github/IsaacKosloski/dio_desafio_github_primeiro_repositorio/blob/main/CS2_1.ipynb\" target=\"_parent\"><img src=\"https://colab.research.google.com/assets/colab-badge.svg\" alt=\"Open In Colab\"/></a>"
      ]
    },
    {
      "cell_type": "markdown",
      "source": [
        "#Obtendo função de transferência em cascata, em paralelo e com realimentação (de malha fechada) com Python.\n",
        "\n",
        "###$G_1(s) = \\frac{num1}{den1} , G_2(s) = \\frac{num2}{den2}$\n",
        "\n",
        "Pag. 17"
      ],
      "metadata": {
        "id": "Iupz4T3G0qKn"
      }
    },
    {
      "cell_type": "code",
      "source": [
        "import numpy as np\n",
        "from scipy.signal import convolve"
      ],
      "metadata": {
        "id": "emujwDcr3P6l"
      },
      "execution_count": null,
      "outputs": []
    },
    {
      "cell_type": "markdown",
      "source": [
        "##Em serie (ou cascata)\n"
      ],
      "metadata": {
        "id": "Ts36Jd5K1JVY"
      }
    },
    {
      "cell_type": "code",
      "execution_count": null,
      "metadata": {
        "colab": {
          "base_uri": "https://localhost:8080/"
        },
        "id": "eJVrrddQ0Q5A",
        "outputId": "37783a16-6bfb-443b-9fa5-558d9d4ce6a4"
      },
      "outputs": [
        {
          "output_type": "stream",
          "name": "stdout",
          "text": [
            "Resulting numerator coefficients: [1]\n",
            "Resulting denominator coefficients: [1 5 6]\n"
          ]
        }
      ],
      "source": [
        "def series(num1, den1, num2, den2):\n",
        "    num = convolve(num1, num2)\n",
        "    den = convolve(den1, den2)\n",
        "    return num, den\n",
        "\n",
        "num1 = [1]  # Numerator coefficients of the first transfer function\n",
        "den1 = [1, 2]  # Denominator coefficients of the first transfer function\n",
        "num2 = [1]  # Numerator coefficients of the second transfer function\n",
        "den2 = [1, 3]  # Denominator coefficients of the second transfer function\n",
        "\n",
        "num, den = series(num1, den1, num2, den2)\n",
        "print(\"Resulting numerator coefficients:\", num)\n",
        "print(\"Resulting denominator coefficients:\", den)\n"
      ]
    },
    {
      "cell_type": "markdown",
      "source": [
        "##Em paralelo"
      ],
      "metadata": {
        "id": "-CutsOvp2jhy"
      }
    },
    {
      "cell_type": "code",
      "source": [
        "def parallel(num1, den1, num2, den2):\n",
        "    common_denominator = convolve(den1, den2)\n",
        "    num1_padded = np.pad(num1, (0, len(common_denominator) - len(num1)))\n",
        "    num2_padded = np.pad(num2, (0, len(common_denominator) - len(num2)))\n",
        "\n",
        "    num = num1_padded + num2_padded\n",
        "    den = common_denominator\n",
        "    return num, den\n",
        "\n",
        "num1 = [1]\n",
        "den1 = [1, 2]\n",
        "num2 = [1]\n",
        "den2 = [1, 3]\n",
        "\n",
        "num, den = parallel(num1, den1, num2, den2)\n",
        "print(\"Resulting numerator coefficients (parallel):\", num)\n",
        "print(\"Resulting denominator coefficients (parallel):\", den)\n"
      ],
      "metadata": {
        "colab": {
          "base_uri": "https://localhost:8080/"
        },
        "id": "43NV7gF72OFN",
        "outputId": "63fb38c8-8930-4d65-b4b7-cbad29975d07"
      },
      "execution_count": null,
      "outputs": [
        {
          "output_type": "stream",
          "name": "stdout",
          "text": [
            "Resulting numerator coefficients (parallel): [2 0 0]\n",
            "Resulting denominator coefficients (parallel): [1 5 6]\n"
          ]
        }
      ]
    },
    {
      "cell_type": "markdown",
      "source": [
        "##Feedback"
      ],
      "metadata": {
        "id": "04aicvG-2tUb"
      }
    },
    {
      "cell_type": "code",
      "source": [
        "def feedback(num1, den1, num2, den2):\n",
        "    num = convolve(num1, den2) + convolve(num2, den1)\n",
        "    den = convolve(den1, den2) + convolve(num2, num2)\n",
        "    return num*10, den\n",
        "\n",
        "num1 = [1]\n",
        "den1 = [1, 2]\n",
        "num2 = [1]\n",
        "den2 = [1, 3]\n",
        "\n",
        "num, den = feedback(num1, den1, num2, den2)\n",
        "print(\"Resulting numerator coefficients (feedback):\", num)\n",
        "print(\"Resulting denominator coefficients (feedback):\", den)\n"
      ],
      "metadata": {
        "colab": {
          "base_uri": "https://localhost:8080/"
        },
        "id": "kUNvvXOu2TN0",
        "outputId": "774c157a-da6e-43d2-d469-ad16bd18124b"
      },
      "execution_count": null,
      "outputs": [
        {
          "output_type": "stream",
          "name": "stdout",
          "text": [
            "Resulting numerator coefficients (feedback): [20 50]\n",
            "Resulting denominator coefficients (feedback): [2 6 7]\n"
          ]
        }
      ]
    },
    {
      "cell_type": "code",
      "source": [
        "def printTF(num, den):\n",
        "    for i in range(len(num)):\n",
        "        if len(num) - i == 1:\n",
        "            print(num[i])\n",
        "        elif len(num) - i == 2:\n",
        "            print(f\"{num[i]}s\", end = \" + \")\n",
        "        else:\n",
        "            nums = len(num) - i - 1\n",
        "            print(f\"{num[i]}s^{nums}\", end = \" + \")\n",
        "    for i in range(len(den)):\n",
        "        if len(den) == 1:\n",
        "            print(den[i])\n",
        "        else:\n",
        "            dens = len(den) - i\n",
        "            print(f\"{den[i]}s^{dens}\", end = \" \")\n",
        "\n",
        "printTF(num, den)\n"
      ],
      "metadata": {
        "id": "8GEU6XKU32yp",
        "colab": {
          "base_uri": "https://localhost:8080/"
        },
        "outputId": "f1bdc3f3-954d-41d0-cbe1-154880c0d3c7"
      },
      "execution_count": null,
      "outputs": [
        {
          "output_type": "stream",
          "name": "stdout",
          "text": [
            "20s + 50\n",
            "2s^3 6s^2 7s^1 "
          ]
        }
      ]
    },
    {
      "cell_type": "markdown",
      "source": [
        "#Programa 2.1\n",
        "pag.18"
      ],
      "metadata": {
        "id": "y-t5bL5s3AFp"
      }
    },
    {
      "cell_type": "code",
      "source": [
        "#Exemplo no livro em MATLAB\n",
        "num1 = [10]\n",
        "den1 = [1, 2, 10]\n",
        "num2 = [5]\n",
        "den2 = [1, 5]\n",
        "\n",
        "print(\"Serie: \\n\")\n",
        "numSr, denSr = series(num1, den1, num2, den2)\n",
        "printTF(numSr,denSr)\n",
        "\n",
        "print(\"\\n\\nParallel: \\n\")\n",
        "numPr, denPr = parallel(num1, den1, num2, den2)\n",
        "printTF(numPr,denPr)\n"
      ],
      "metadata": {
        "id": "Y8t0aDjI3HSA",
        "colab": {
          "base_uri": "https://localhost:8080/"
        },
        "outputId": "9cb42333-772f-420a-b5ba-e5d561b1f474"
      },
      "execution_count": null,
      "outputs": [
        {
          "output_type": "stream",
          "name": "stdout",
          "text": [
            "Serie: \n",
            "\n",
            "50\n",
            "1s^4 7s^3 20s^2 50s^1 \n",
            "\n",
            "Parallel: \n",
            "\n",
            "15s^3 + 0s^2 + 0s + 0\n",
            "1s^4 7s^3 20s^2 50s^1 "
          ]
        }
      ]
    },
    {
      "cell_type": "code",
      "source": [
        "numFb, denFb = feedback(num1, den1, num2, den2)\n",
        "printTF(num,den)\n"
      ],
      "metadata": {
        "colab": {
          "base_uri": "https://localhost:8080/",
          "height": 315
        },
        "id": "sABt42v_9a5N",
        "outputId": "c4013dd2-d2a9-498e-bdeb-d4c7f7241f11"
      },
      "execution_count": null,
      "outputs": [
        {
          "output_type": "error",
          "ename": "ValueError",
          "evalue": "ignored",
          "traceback": [
            "\u001b[0;31m---------------------------------------------------------------------------\u001b[0m",
            "\u001b[0;31mValueError\u001b[0m                                Traceback (most recent call last)",
            "\u001b[0;32m<ipython-input-52-814a473e4d80>\u001b[0m in \u001b[0;36m<cell line: 1>\u001b[0;34m()\u001b[0m\n\u001b[0;32m----> 1\u001b[0;31m \u001b[0mnumFb\u001b[0m\u001b[0;34m,\u001b[0m \u001b[0mdenFb\u001b[0m \u001b[0;34m=\u001b[0m \u001b[0mfeedback\u001b[0m\u001b[0;34m(\u001b[0m\u001b[0mnum1\u001b[0m\u001b[0;34m,\u001b[0m \u001b[0mden1\u001b[0m\u001b[0;34m,\u001b[0m \u001b[0mnum2\u001b[0m\u001b[0;34m,\u001b[0m \u001b[0mden2\u001b[0m\u001b[0;34m)\u001b[0m\u001b[0;34m\u001b[0m\u001b[0;34m\u001b[0m\u001b[0m\n\u001b[0m\u001b[1;32m      2\u001b[0m \u001b[0mprintTF\u001b[0m\u001b[0;34m(\u001b[0m\u001b[0mnum\u001b[0m\u001b[0;34m,\u001b[0m\u001b[0mden\u001b[0m\u001b[0;34m)\u001b[0m\u001b[0;34m\u001b[0m\u001b[0;34m\u001b[0m\u001b[0m\n",
            "\u001b[0;32m<ipython-input-44-25e3b4d5d69c>\u001b[0m in \u001b[0;36mfeedback\u001b[0;34m(num1, den1, num2, den2)\u001b[0m\n\u001b[1;32m      1\u001b[0m \u001b[0;32mdef\u001b[0m \u001b[0mfeedback\u001b[0m\u001b[0;34m(\u001b[0m\u001b[0mnum1\u001b[0m\u001b[0;34m,\u001b[0m \u001b[0mden1\u001b[0m\u001b[0;34m,\u001b[0m \u001b[0mnum2\u001b[0m\u001b[0;34m,\u001b[0m \u001b[0mden2\u001b[0m\u001b[0;34m)\u001b[0m\u001b[0;34m:\u001b[0m\u001b[0;34m\u001b[0m\u001b[0;34m\u001b[0m\u001b[0m\n\u001b[0;32m----> 2\u001b[0;31m     \u001b[0mnum\u001b[0m \u001b[0;34m=\u001b[0m \u001b[0mconvolve\u001b[0m\u001b[0;34m(\u001b[0m\u001b[0mnum1\u001b[0m\u001b[0;34m,\u001b[0m \u001b[0mden2\u001b[0m\u001b[0;34m)\u001b[0m \u001b[0;34m+\u001b[0m \u001b[0mconvolve\u001b[0m\u001b[0;34m(\u001b[0m\u001b[0mnum2\u001b[0m\u001b[0;34m,\u001b[0m \u001b[0mden1\u001b[0m\u001b[0;34m)\u001b[0m\u001b[0;34m\u001b[0m\u001b[0;34m\u001b[0m\u001b[0m\n\u001b[0m\u001b[1;32m      3\u001b[0m     \u001b[0mden\u001b[0m \u001b[0;34m=\u001b[0m \u001b[0mconvolve\u001b[0m\u001b[0;34m(\u001b[0m\u001b[0mden1\u001b[0m\u001b[0;34m,\u001b[0m \u001b[0mden2\u001b[0m\u001b[0;34m)\u001b[0m \u001b[0;34m+\u001b[0m \u001b[0mconvolve\u001b[0m\u001b[0;34m(\u001b[0m\u001b[0mnum2\u001b[0m\u001b[0;34m,\u001b[0m \u001b[0mnum2\u001b[0m\u001b[0;34m)\u001b[0m\u001b[0;34m\u001b[0m\u001b[0;34m\u001b[0m\u001b[0m\n\u001b[1;32m      4\u001b[0m     \u001b[0;32mreturn\u001b[0m \u001b[0mnum\u001b[0m\u001b[0;34m*\u001b[0m\u001b[0;36m10\u001b[0m\u001b[0;34m,\u001b[0m \u001b[0mden\u001b[0m\u001b[0;34m\u001b[0m\u001b[0;34m\u001b[0m\u001b[0m\n\u001b[1;32m      5\u001b[0m \u001b[0;34m\u001b[0m\u001b[0m\n",
            "\u001b[0;31mValueError\u001b[0m: operands could not be broadcast together with shapes (2,) (3,) "
          ]
        }
      ]
    },
    {
      "cell_type": "code",
      "source": [
        "#Programa 2.1 em MATLAB\n",
        "num1 = [10];\n",
        "den1 = [1 2 10];\n",
        "num2 = [5];\n",
        "den2 = [1 5];\n",
        "[num, den] = series(num1, den1, num2, den2);\n",
        "printsys(num,den)\n",
        "\n",
        "[num, den] = parallel(num1, den1, num2, den2);\n",
        "printsys(num,den)\n",
        "\n",
        "[num, den] = feedback(num1, den1, num2, den2);\n",
        "printsys(num,den)"
      ],
      "metadata": {
        "id": "jkIy4f1b_qSb"
      },
      "execution_count": null,
      "outputs": []
    },
    {
      "cell_type": "code",
      "source": [
        "#programa 2.1 em Python\n",
        "import numpy as np\n",
        "from scipy.signal import convolve\n",
        "\n",
        "def series(num1, den1, num2, den2):\n",
        "    num = convolve(num1, num2)\n",
        "    den = convolve(den1, den2)\n",
        "    return num, den\n",
        "\n",
        "def parallel(num1, den1, num2, den2):\n",
        "    common_denominator = convolve(den1, den2)\n",
        "    num1_padded = np.pad(num1, (0, len(common_denominator) - len(num1)))\n",
        "    num2_padded = np.pad(num2, (0, len(common_denominator) - len(num2)))\n",
        "    num = num1_padded + num2_padded\n",
        "    den = common_denominator\n",
        "    return num, den\n",
        "\n",
        "def feedback(num1, den1, num2, den2):\n",
        "    num = convolve(num1, den2) + convolve(num2, den1)\n",
        "    den = convolve(den1, den2) + convolve(num2, num2)\n",
        "    return num, den\n",
        "\n",
        "num1 = [10]\n",
        "den1 = [1, 2, 10]\n",
        "num2 = [5]\n",
        "den2 = [1, 5]\n",
        "\n",
        "# Series connection\n",
        "num, den = series(num1, den1, num2, den2)\n",
        "print(\"Series connection - Numerator:\", num)\n",
        "print(\"Series connection - Denominator:\", den)\n",
        "\n",
        "# Parallel connection\n",
        "num, den = parallel(num1, den1, num2, den2)\n",
        "print(\"Parallel connection - Numerator:\", num)\n",
        "print(\"Parallel connection - Denominator:\", den)\n",
        "\n",
        "# Feedback connection\n",
        "num, den = feedback(num1, den1, num2, den2)\n",
        "print(\"Feedback connection - Numerator:\", num)\n",
        "print(\"Feedback connection - Denominator:\", den)\n"
      ],
      "metadata": {
        "colab": {
          "base_uri": "https://localhost:8080/",
          "height": 436
        },
        "id": "bo0-vCTCAaiM",
        "outputId": "f581fcd3-a90c-40bc-be98-4a20b8802785"
      },
      "execution_count": null,
      "outputs": [
        {
          "output_type": "stream",
          "name": "stdout",
          "text": [
            "Series connection - Numerator: [50]\n",
            "Series connection - Denominator: [ 1  7 20 50]\n",
            "Parallel connection - Numerator: [15  0  0  0]\n",
            "Parallel connection - Denominator: [ 1  7 20 50]\n"
          ]
        },
        {
          "output_type": "error",
          "ename": "ValueError",
          "evalue": "ignored",
          "traceback": [
            "\u001b[0;31m---------------------------------------------------------------------------\u001b[0m",
            "\u001b[0;31mValueError\u001b[0m                                Traceback (most recent call last)",
            "\u001b[0;32m<ipython-input-53-e4b6d0068e99>\u001b[0m in \u001b[0;36m<cell line: 39>\u001b[0;34m()\u001b[0m\n\u001b[1;32m     37\u001b[0m \u001b[0;34m\u001b[0m\u001b[0m\n\u001b[1;32m     38\u001b[0m \u001b[0;31m# Feedback connection\u001b[0m\u001b[0;34m\u001b[0m\u001b[0;34m\u001b[0m\u001b[0m\n\u001b[0;32m---> 39\u001b[0;31m \u001b[0mnum\u001b[0m\u001b[0;34m,\u001b[0m \u001b[0mden\u001b[0m \u001b[0;34m=\u001b[0m \u001b[0mfeedback\u001b[0m\u001b[0;34m(\u001b[0m\u001b[0mnum1\u001b[0m\u001b[0;34m,\u001b[0m \u001b[0mden1\u001b[0m\u001b[0;34m,\u001b[0m \u001b[0mnum2\u001b[0m\u001b[0;34m,\u001b[0m \u001b[0mden2\u001b[0m\u001b[0;34m)\u001b[0m\u001b[0;34m\u001b[0m\u001b[0;34m\u001b[0m\u001b[0m\n\u001b[0m\u001b[1;32m     40\u001b[0m \u001b[0mprint\u001b[0m\u001b[0;34m(\u001b[0m\u001b[0;34m\"Feedback connection - Numerator:\"\u001b[0m\u001b[0;34m,\u001b[0m \u001b[0mnum\u001b[0m\u001b[0;34m)\u001b[0m\u001b[0;34m\u001b[0m\u001b[0;34m\u001b[0m\u001b[0m\n\u001b[1;32m     41\u001b[0m \u001b[0mprint\u001b[0m\u001b[0;34m(\u001b[0m\u001b[0;34m\"Feedback connection - Denominator:\"\u001b[0m\u001b[0;34m,\u001b[0m \u001b[0mden\u001b[0m\u001b[0;34m)\u001b[0m\u001b[0;34m\u001b[0m\u001b[0;34m\u001b[0m\u001b[0m\n",
            "\u001b[0;32m<ipython-input-53-e4b6d0068e99>\u001b[0m in \u001b[0;36mfeedback\u001b[0;34m(num1, den1, num2, den2)\u001b[0m\n\u001b[1;32m     17\u001b[0m \u001b[0;34m\u001b[0m\u001b[0m\n\u001b[1;32m     18\u001b[0m \u001b[0;32mdef\u001b[0m \u001b[0mfeedback\u001b[0m\u001b[0;34m(\u001b[0m\u001b[0mnum1\u001b[0m\u001b[0;34m,\u001b[0m \u001b[0mden1\u001b[0m\u001b[0;34m,\u001b[0m \u001b[0mnum2\u001b[0m\u001b[0;34m,\u001b[0m \u001b[0mden2\u001b[0m\u001b[0;34m)\u001b[0m\u001b[0;34m:\u001b[0m\u001b[0;34m\u001b[0m\u001b[0;34m\u001b[0m\u001b[0m\n\u001b[0;32m---> 19\u001b[0;31m     \u001b[0mnum\u001b[0m \u001b[0;34m=\u001b[0m \u001b[0mconvolve\u001b[0m\u001b[0;34m(\u001b[0m\u001b[0mnum1\u001b[0m\u001b[0;34m,\u001b[0m \u001b[0mden2\u001b[0m\u001b[0;34m)\u001b[0m \u001b[0;34m+\u001b[0m \u001b[0mconvolve\u001b[0m\u001b[0;34m(\u001b[0m\u001b[0mnum2\u001b[0m\u001b[0;34m,\u001b[0m \u001b[0mden1\u001b[0m\u001b[0;34m)\u001b[0m\u001b[0;34m\u001b[0m\u001b[0;34m\u001b[0m\u001b[0m\n\u001b[0m\u001b[1;32m     20\u001b[0m     \u001b[0mden\u001b[0m \u001b[0;34m=\u001b[0m \u001b[0mconvolve\u001b[0m\u001b[0;34m(\u001b[0m\u001b[0mden1\u001b[0m\u001b[0;34m,\u001b[0m \u001b[0mden2\u001b[0m\u001b[0;34m)\u001b[0m \u001b[0;34m+\u001b[0m \u001b[0mconvolve\u001b[0m\u001b[0;34m(\u001b[0m\u001b[0mnum2\u001b[0m\u001b[0;34m,\u001b[0m \u001b[0mnum2\u001b[0m\u001b[0;34m)\u001b[0m\u001b[0;34m\u001b[0m\u001b[0;34m\u001b[0m\u001b[0m\n\u001b[1;32m     21\u001b[0m     \u001b[0;32mreturn\u001b[0m \u001b[0mnum\u001b[0m\u001b[0;34m,\u001b[0m \u001b[0mden\u001b[0m\u001b[0;34m\u001b[0m\u001b[0;34m\u001b[0m\u001b[0m\n",
            "\u001b[0;31mValueError\u001b[0m: operands could not be broadcast together with shapes (2,) (3,) "
          ]
        }
      ]
    }
  ]
}
